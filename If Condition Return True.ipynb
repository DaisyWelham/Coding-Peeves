{
 "cells": [
  {
   "cell_type": "markdown",
   "id": "5b48ce08-816f-4daf-92dc-99dec6085b45",
   "metadata": {},
   "source": [
    "Let's say we want a function which can tell us when a number is a multiple of 17. What is the obvious way to do this? We use remainder % to find the remainder after dividing by 17, then if the remainder is 0 we have a number which is a multiple of 17. So far so good. A lot of new programmers put this in an \"if-then\" loop, such as:-"
   ]
  },
  {
   "cell_type": "code",
   "execution_count": null,
   "id": "6b78de4b-af45-40ba-8504-64f900dbfc2b",
   "metadata": {},
   "outputs": [],
   "source": [
    "def isMultipleOfSeventeen(x):\n",
    "    if x % 17 == 0:\n",
    "        return(True)\n",
    "    else:\n",
    "        return(False)\n",
    "\n",
    "for x in [1, 17, 34, 43, 100]:\n",
    "    print(isMultipleOfSeventeen(x))"
   ]
  },
  {
   "cell_type": "markdown",
   "id": "2a9db48e-a440-48f6-91f5-70d9bfe00163",
   "metadata": {},
   "source": [
    "This does work but it's so much longer than it needs to be! We can just return the condition instead! "
   ]
  },
  {
   "cell_type": "code",
   "execution_count": null,
   "id": "190195f6-8fef-40e5-8046-13f5b59fd789",
   "metadata": {},
   "outputs": [],
   "source": [
    "def betterVersion(x):\n",
    "    return(x % 17 == 0)\n",
    "\n",
    "for x in [1, 17, 34, 43, 100]:\n",
    "    print(betterVersion(x))"
   ]
  }
 ],
 "metadata": {
  "kernelspec": {
   "display_name": "Python 3 (ipykernel)",
   "language": "python",
   "name": "python3"
  },
  "language_info": {
   "codemirror_mode": {
    "name": "ipython",
    "version": 3
   },
   "file_extension": ".py",
   "mimetype": "text/x-python",
   "name": "python",
   "nbconvert_exporter": "python",
   "pygments_lexer": "ipython3",
   "version": "3.10.16"
  }
 },
 "nbformat": 4,
 "nbformat_minor": 5
}
