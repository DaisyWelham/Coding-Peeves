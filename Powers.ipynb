{
 "cells": [
  {
   "cell_type": "markdown",
   "id": "93bdbee9-3f32-4139-afc9-f9d16bd2c656",
   "metadata": {},
   "source": [
    "Suppose we want 5 squared. The intuitive way to do that (and the way some other programming languages handle it) is 5^2. So let's try that and see what happens!"
   ]
  },
  {
   "cell_type": "code",
   "execution_count": 1,
   "id": "aae3d3d9-ff97-4517-be25-3678d11eb2e6",
   "metadata": {},
   "outputs": [
    {
     "name": "stdout",
     "output_type": "stream",
     "text": [
      "7\n"
     ]
    }
   ],
   "source": [
    "result = 5 ^ 2\n",
    "print(result)"
   ]
  },
  {
   "cell_type": "markdown",
   "id": "5464e116-925b-4910-a4c5-919fcfd3ca42",
   "metadata": {},
   "source": [
    "So that's wrong. What happened? \n",
    "\n",
    "In Python, ^ is XOR. We convert the numbers to binary and compare them. When the digits are the same we output a 0, and when they're different we output a 1.\n",
    "\n",
    "5 = 0000 0101\n",
    "\n",
    "2 = 0000 0010\n",
    "\n",
    "R = 0000 0111\n",
    "\n",
    "R = 7.\n",
    "\n",
    "To do powers the proper way, we use asterisks twice, like this:"
   ]
  },
  {
   "cell_type": "code",
   "execution_count": 2,
   "id": "d1678de2-c4fc-4159-99c5-cc714cceebfd",
   "metadata": {},
   "outputs": [
    {
     "name": "stdout",
     "output_type": "stream",
     "text": [
      "25\n"
     ]
    }
   ],
   "source": [
    "result = 5 ** 2\n",
    "print(result)"
   ]
  },
  {
   "cell_type": "code",
   "execution_count": null,
   "id": "8f4f35aa-0187-4059-bd8e-97214b99d351",
   "metadata": {},
   "outputs": [],
   "source": []
  }
 ],
 "metadata": {
  "kernelspec": {
   "display_name": "Python 3 (ipykernel)",
   "language": "python",
   "name": "python3"
  },
  "language_info": {
   "codemirror_mode": {
    "name": "ipython",
    "version": 3
   },
   "file_extension": ".py",
   "mimetype": "text/x-python",
   "name": "python",
   "nbconvert_exporter": "python",
   "pygments_lexer": "ipython3",
   "version": "3.10.16"
  }
 },
 "nbformat": 4,
 "nbformat_minor": 5
}
