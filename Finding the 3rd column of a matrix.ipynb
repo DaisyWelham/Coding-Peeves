{
 "cells": [
  {
   "cell_type": "markdown",
   "id": "f32e6ca2-2944-4cab-a9c0-42772f83a6e6",
   "metadata": {},
   "source": [
    "Suppose we need to find the third column of a matrix. There is an easy and efficient way to do it and a harder, less efficient way to do it. The obvious way to do it - with nested four loops and checks against the third column - is inefficient. There is a much better way to do it but first here's the inefficent way."
   ]
  },
  {
   "cell_type": "code",
   "execution_count": null,
   "id": "eb8140b4-f20b-4f78-aeb3-79a879735cf6",
   "metadata": {},
   "outputs": [],
   "source": [
    "import numpy as np\n",
    "import random as r"
   ]
  },
  {
   "cell_type": "code",
   "execution_count": 4,
   "id": "4ca11aac-4ae3-4b6d-981d-e7a9390fb276",
   "metadata": {},
   "outputs": [
    {
     "name": "stdout",
     "output_type": "stream",
     "text": [
      "[[ 7 26 53 ... 15  2 14]\n",
      " [18 62 19 ... 68 48 45]\n",
      " [ 0 43 64 ... 68  3 10]\n",
      " ...\n",
      " [37 45 18 ... 17 38 31]\n",
      " [57 61 28 ...  1 19 60]\n",
      " [ 7 69  3 ... 54 26 44]]\n"
     ]
    }
   ],
   "source": [
    "matrix = np.array([[r.randint(0, 70) for b in range(10)] for c in range(1000)])"
   ]
  },
  {
   "cell_type": "code",
   "execution_count": 5,
   "id": "7db655bc-ee4f-4d12-bb2a-866f10ebf461",
   "metadata": {},
   "outputs": [
    {
     "name": "stdout",
     "output_type": "stream",
     "text": [
      "[np.int64(53), np.int64(19), np.int64(64), np.int64(12), np.int64(8), np.int64(39), np.int64(8), np.int64(68), np.int64(64), np.int64(0)]\n"
     ]
    }
   ],
   "source": [
    "column = []\n",
    "for row in matrix:\n",
    "    for i in range(len(row)):\n",
    "        if i == 2:\n",
    "            column.append(row[i])\n",
    "print(column[:10])"
   ]
  },
  {
   "cell_type": "markdown",
   "id": "0d1981c5-8a40-4628-9962-468cf598f749",
   "metadata": {},
   "source": [
    "That did work but it's way more code than it needs to be! Just do this instead:"
   ]
  },
  {
   "cell_type": "code",
   "execution_count": null,
   "id": "0a537ea2-10ec-4326-afa5-db822ba2a29a",
   "metadata": {},
   "outputs": [],
   "source": [
    "column = matr"
   ]
  }
 ],
 "metadata": {
  "kernelspec": {
   "display_name": "Python 3 (ipykernel)",
   "language": "python",
   "name": "python3"
  },
  "language_info": {
   "codemirror_mode": {
    "name": "ipython",
    "version": 3
   },
   "file_extension": ".py",
   "mimetype": "text/x-python",
   "name": "python",
   "nbconvert_exporter": "python",
   "pygments_lexer": "ipython3",
   "version": "3.10.16"
  }
 },
 "nbformat": 4,
 "nbformat_minor": 5
}
