{
 "cells": [
  {
   "cell_type": "markdown",
   "id": "f32e6ca2-2944-4cab-a9c0-42772f83a6e6",
   "metadata": {},
   "source": [
    "Suppose we need to find the third column of a matrix. There is an easy and efficient way to do it and a harder, less efficient way to do it. The obvious way to do it - with nested four loops and checks against the third column - is inefficient. There is a much better way to do it but first here's the inefficent way."
   ]
  },
  {
   "cell_type": "code",
   "execution_count": 1,
   "id": "eb8140b4-f20b-4f78-aeb3-79a879735cf6",
   "metadata": {},
   "outputs": [],
   "source": [
    "import numpy as np\n",
    "import random as r\n",
    "matrix = np.array([[r.randint(0, 70) for b in range(10)] for c in range(1000)])"
   ]
  },
  {
   "cell_type": "code",
   "execution_count": 2,
   "id": "7db655bc-ee4f-4d12-bb2a-866f10ebf461",
   "metadata": {},
   "outputs": [
    {
     "name": "stdout",
     "output_type": "stream",
     "text": [
      "[np.int64(54), np.int64(21), np.int64(5), np.int64(49), np.int64(66), np.int64(10), np.int64(23), np.int64(44), np.int64(34), np.int64(11)]\n"
     ]
    }
   ],
   "source": [
    "column = []\n",
    "for row in matrix:\n",
    "    for i in range(len(row)):\n",
    "        if i == 2:\n",
    "            column.append(row[i])\n",
    "print(column[:10])"
   ]
  },
  {
   "cell_type": "markdown",
   "id": "0d1981c5-8a40-4628-9962-468cf598f749",
   "metadata": {},
   "source": [
    "That did work but it's way more code than it needs to be! Just do this instead:"
   ]
  },
  {
   "cell_type": "code",
   "execution_count": 3,
   "id": "0a537ea2-10ec-4326-afa5-db822ba2a29a",
   "metadata": {},
   "outputs": [
    {
     "name": "stdout",
     "output_type": "stream",
     "text": [
      "[54 21  5 49 66 10 23 44 34 11]\n"
     ]
    }
   ],
   "source": [
    "column = matrix[:, 2]\n",
    "print(column[:10])"
   ]
  },
  {
   "cell_type": "code",
   "execution_count": null,
   "id": "b84703b6-78dd-47d2-8afb-4eef49ca3410",
   "metadata": {},
   "outputs": [],
   "source": []
  }
 ],
 "metadata": {
  "kernelspec": {
   "display_name": "Python 3 (ipykernel)",
   "language": "python",
   "name": "python3"
  },
  "language_info": {
   "codemirror_mode": {
    "name": "ipython",
    "version": 3
   },
   "file_extension": ".py",
   "mimetype": "text/x-python",
   "name": "python",
   "nbconvert_exporter": "python",
   "pygments_lexer": "ipython3",
   "version": "3.10.16"
  }
 },
 "nbformat": 4,
 "nbformat_minor": 5
}
